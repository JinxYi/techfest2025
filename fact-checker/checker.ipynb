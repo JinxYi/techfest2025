{
 "cells": [
  {
   "cell_type": "code",
   "execution_count": null,
   "metadata": {},
   "outputs": [
    {
     "name": "stdout",
     "output_type": "stream",
     "text": [
      "ChatCompletion(id='78281f73-b02e-4062-9f32-bf36ae8ce15e', choices=[Choice(finish_reason='stop', index=0, logprobs=None, message=ChatCompletionMessage(content='The claim that \"Donald Trump claims that the election was rigged\" is accurate. Donald Trump has repeatedly made claims that the 2020 U.S. presidential election was rigged or stolen from him. These claims have been widely reported by numerous reliable sources, including major news outlets like The New York Times, CNN, BBC, and others.\\n\\nHowever, it\\'s important to note that these claims have been extensively investigated and debunked. Multiple courts, including some with judges appointed by Trump, have dismissed lawsuits alleging widespread voter fraud due to lack of evidence. Additionally, the U.S. Department of Justice under the Trump administration found no evidence of widespread fraud that could have changed the outcome of the election.\\n\\n**Credibility Score: 10/10** for the claim that Donald Trump has made these assertions. However, the credibility of the assertion itself (that the election was rigged) is **0/10** based on the overwhelming evidence and legal findings to the contrary.\\n\\nFor further reading, you can refer to:\\n- [The New York Times](https://www.nytimes.com)\\n- [BBC](https://www.bbc.com)\\n- [CNN](https://www.cnn.com)', refusal=None, role='assistant', audio=None, function_call=None, tool_calls=None))], created=1741424656, model='deepseek-chat', object='chat.completion', service_tier=None, system_fingerprint='fp_3a5770e1b4_prod0225', usage=CompletionUsage(completion_tokens=242, prompt_tokens=35, total_tokens=277, completion_tokens_details=None, prompt_tokens_details=PromptTokensDetails(audio_tokens=None, cached_tokens=0), prompt_cache_hit_tokens=0, prompt_cache_miss_tokens=35))\n",
      "The claim that \"Donald Trump claims that the election was rigged\" is accurate. Donald Trump has repeatedly made claims that the 2020 U.S. presidential election was rigged or stolen from him. These claims have been widely reported by numerous reliable sources, including major news outlets like The New York Times, CNN, BBC, and others.\n",
      "\n",
      "However, it's important to note that these claims have been extensively investigated and debunked. Multiple courts, including some with judges appointed by Trump, have dismissed lawsuits alleging widespread voter fraud due to lack of evidence. Additionally, the U.S. Department of Justice under the Trump administration found no evidence of widespread fraud that could have changed the outcome of the election.\n",
      "\n",
      "**Credibility Score: 10/10** for the claim that Donald Trump has made these assertions. However, the credibility of the assertion itself (that the election was rigged) is **0/10** based on the overwhelming evidence and legal findings to the contrary.\n",
      "\n",
      "For further reading, you can refer to:\n",
      "- [The New York Times](https://www.nytimes.com)\n",
      "- [BBC](https://www.bbc.com)\n",
      "- [CNN](https://www.cnn.com)\n",
      "ChatCompletion(id='78281f73-b02e-4062-9f32-bf36ae8ce15e', choices=[Choice(finish_reason='stop', index=0, logprobs=None, message=ChatCompletionMessage(content='The claim that \"Donald Trump claims that the election was rigged\" is accurate. Donald Trump has repeatedly made claims that the 2020 U.S. presidential election was rigged or stolen from him. These claims have been widely reported by numerous reliable sources, including major news outlets like The New York Times, CNN, BBC, and others.\\n\\nHowever, it\\'s important to note that these claims have been extensively investigated and debunked. Multiple courts, including some with judges appointed by Trump, have dismissed lawsuits alleging widespread voter fraud due to lack of evidence. Additionally, the U.S. Department of Justice under the Trump administration found no evidence of widespread fraud that could have changed the outcome of the election.\\n\\n**Credibility Score: 10/10** for the claim that Donald Trump has made these assertions. However, the credibility of the assertion itself (that the election was rigged) is **0/10** based on the overwhelming evidence and legal findings to the contrary.\\n\\nFor further reading, you can refer to:\\n- [The New York Times](https://www.nytimes.com)\\n- [BBC](https://www.bbc.com)\\n- [CNN](https://www.cnn.com)', refusal=None, role='assistant', audio=None, function_call=None, tool_calls=None))], created=1741424656, model='deepseek-chat', object='chat.completion', service_tier=None, system_fingerprint='fp_3a5770e1b4_prod0225', usage=CompletionUsage(completion_tokens=242, prompt_tokens=35, total_tokens=277, completion_tokens_details=None, prompt_tokens_details=PromptTokensDetails(audio_tokens=None, cached_tokens=0), prompt_cache_hit_tokens=0, prompt_cache_miss_tokens=35))\n"
     ]
    }
   ],
   "source": [
    "# Please install OpenAI SDK first: `pip3 install openai`\n",
    "\n",
    "from openai import OpenAI\n",
    "\n",
    "client = OpenAI(api_key=\"sk-33bcde5e68364744a58657bc213af07d\", base_url=\"https://api.deepseek.com\")\n",
    "\n",
    "messages = []\n",
    "def deepseek_query(prompt):\n",
    "    messages.append({\"role\": \"user\", \"content\": prompt})\n",
    "    response = client.chat.completions.create(\n",
    "        model=\"deepseek-chat\",\n",
    "        messages=messages,\n",
    "        stream=False\n",
    "    )\n",
    "    print(response)\n",
    "    output = response.choices[0].message.content\n",
    "    messages.append({\"role\": \"system\", \"content\": output})\n",
    "    return output\n",
    "\n",
    "def fact_check_with_deepseek(claim):\n",
    "    prompt = f\"Fact-check this claim using reliable sources: '{claim}'. Provide a credibility score from 0-10.\"\n",
    "    result = deepseek_query(prompt)\n",
    "    return result\n",
    "\n",
    "\n",
    "def sentiment_analysis_with_deepseek(text):\n",
    "    prompt = f\"Analyze the sentiment of this text: '{text}'. Is it positive, negative, or neutral? Provide a credibility score based on neutrality (0-10).\"\n",
    "    result = deepseek_query(prompt)\n",
    "    return result[\"choices\"][0][\"message\"][\"content\"]\n",
    "    \n",
    "claim = \"Donald Trump claims that the election was rigged.\"\n",
    "fact_check_result = fact_check_with_deepseek(claim)\n",
    "print(fact_check_result)"
   ]
  },
  {
   "cell_type": "code",
   "execution_count": null,
   "metadata": {},
   "outputs": [],
   "source": []
  }
 ],
 "metadata": {
  "kernelspec": {
   "display_name": ".venv",
   "language": "python",
   "name": "python3"
  },
  "language_info": {
   "codemirror_mode": {
    "name": "ipython",
    "version": 3
   },
   "file_extension": ".py",
   "mimetype": "text/x-python",
   "name": "python",
   "nbconvert_exporter": "python",
   "pygments_lexer": "ipython3",
   "version": "3.13.2"
  }
 },
 "nbformat": 4,
 "nbformat_minor": 2
}
